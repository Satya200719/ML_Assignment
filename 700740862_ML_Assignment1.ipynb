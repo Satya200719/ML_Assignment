{
 "cells": [
  {
   "cell_type": "code",
   "execution_count": 3,
   "id": "49e72b6f",
   "metadata": {},
   "outputs": [
    {
     "name": "stdout",
     "output_type": "stream",
     "text": [
      "After sorting ages :  [19, 19, 20, 22, 24, 24, 24, 25, 25, 26]\n",
      "Maximum age in given students :  26\n",
      "Minimum age in given students :  19\n",
      "Student ages after updating :  [19, 19, 19, 20, 22, 24, 24, 24, 25, 25, 26, 26]\n",
      "Median age in list :  24.0\n",
      "Average age of the list :  22.75\n",
      "Range of ages :  7\n"
     ]
    }
   ],
   "source": [
    "#Question 1\n",
    "ages = [19, 22, 19, 24, 20, 25, 26, 24, 25, 24]\n",
    "ages.sort();\n",
    "maxAge = max(ages);\n",
    "minAge = min(ages);\n",
    "print(\"After sorting ages : \", ages);\n",
    "print(\"Maximum age in given students : \", maxAge);\n",
    "print(\"Minimum age in given students : \", minAge);\n",
    "ages.insert(0, minAge) #using insert(index, value) method to add min value\n",
    "ages.append(maxAge)    #using append() method to add max value at end\n",
    "print(\"Student ages after updating : \", ages);\n",
    "agesLen = len(ages);\n",
    "if agesLen % 2 == 0 :\n",
    "        print(\"Median age in list : \", (ages[(int(agesLen/2))-1]+ages[int(agesLen/2)])/2);\n",
    "else : \n",
    "        print(\"Median age in list : \", (ages[int(agesLen/2)]));\n",
    "\n",
    "avgAge = sum(ages)/agesLen;\n",
    "print(\"Average age of the list : \", avgAge);\n",
    "\n",
    "#Finding range of ages\n",
    "print(\"Range of ages : \", maxAge - minAge);\n"
   ]
  },
  {
   "cell_type": "code",
   "execution_count": 62,
   "id": "6dbda442",
   "metadata": {},
   "outputs": [
    {
     "name": "stdout",
     "output_type": "stream",
     "text": [
      "Updated dog dictionary :  {'name': 'Rocky', 'color': 'Dusty', 'breed': 'Basset Hound', 'legs': 'Four', 'age': 'Four'}\n",
      "Student Dictionary:  {'first_name': 'Satya', 'last_name': 'Boppana', 'gender': 'Male', 'age': '23', 'marital_status': 'Single', 'skills': ['Java, SQL'], 'country': 'India', 'city': 'Cherla', 'address': 'Telangana'}\n",
      "\n",
      "Length of the Student Dictionary:  9\n",
      "\n",
      "Getting value for a key(Skills) :  ['Java, SQL']\n",
      "Datatype of the skills :  <class 'list'>\n",
      "Updated skills :  ['Java, SQL', 'HTML', 'CSS', 'APEX']\n",
      "Keys :  dict_keys(['first_name', 'last_name', 'gender', 'age', 'marital_status', 'skills', 'country', 'city', 'address'])\n",
      "Values :  dict_values(['Satya', 'Boppana', 'Male', '23', 'Single', ['Java, SQL', 'HTML', 'CSS', 'APEX'], 'India', 'Cherla', 'Telangana'])\n"
     ]
    }
   ],
   "source": [
    "#Question 2\n",
    "dog = dict();\n",
    "dog.update({\"name\" : \"Rocky\", \"color\" : \"Dusty\", \"breed\" : \"Basset Hound\", \"legs\" : \"Four\", \"age\" : \"Four\"})\n",
    "print(\"Updated dog dictionary : \", dog);\n",
    "studentD = dict();  #created an empty student dictionary and then adding key-values.\n",
    "studentD.update({\"first_name\" : \"Satya\", \"last_name\" : \"Boppana\", \"gender\" : \"Male\", \"age\" : \"23\",\n",
    "                \"marital_status\" : \"Single\", \"skills\" : [\"Java, SQL\"], \"country\" : \"India\", \"city\" : \"Cherla\",\n",
    "                \"address\" : \"Telangana\"});\n",
    "print(\"Student Dictionary: \", studentD);\n",
    "print(\"\\nLength of the Student Dictionary: \", len(studentD))\n",
    "print(\"\\nGetting value for a key(Skills) : \", studentD[\"skills\"]);\n",
    "print(\"Datatype of the skills : \", type(studentD[\"skills\"]));\n",
    "studentD[\"skills\"].extend([\"HTML\", \"CSS\", \"APEX\"]);\n",
    "print(\"Updated skills : \", studentD[\"skills\"]);\n",
    "print(\"Keys : \", studentD.keys());\n",
    "print(\"Values : \", studentD.values());\n"
   ]
  },
  {
   "cell_type": "code",
   "execution_count": 65,
   "id": "862adfc2",
   "metadata": {},
   "outputs": [
    {
     "name": "stdout",
     "output_type": "stream",
     "text": [
      "My Sister Tuple :  ('Sravanthi', 'Sowmya')\n",
      "My Brother Tuple :  ('Shyam', 'Sravan')\n",
      "My Siblings Tuple :  ('Shyam', 'Sravan', 'Sravanthi', 'Sowmya')\n",
      "number of siblings:  4\n",
      "Family Members:  ('Shyam', 'Sravan', 'Sravanthi', 'Sowmya', 'Srinivasa Rao', 'Prabhavathi')\n"
     ]
    }
   ],
   "source": [
    "#Question 3\n",
    "#Creating tuple and adding some data into it..\n",
    "\n",
    "mySisters = (\"Sravanthi\", \"Sowmya\"); print(\"My Sister Tuple : \", mySisters);\n",
    "myBrothers = (\"Shyam\", \"Sravan\"); print(\"My Brother Tuple : \", myBrothers);\n",
    "\n",
    "#Adding sisters and brothers and assigning to Siblings...\n",
    "\n",
    "mySiblings = myBrothers + mySisters ;\n",
    "print(\"My Siblings Tuple : \", mySiblings);\n",
    "\n",
    "#Number of siblings\n",
    "print(\"number of siblings: \", len(mySiblings));\n",
    "\n",
    "#Adding family \n",
    "family_members = mySiblings + (\"Srinivasa Rao\", \"Prabhavathi\");\n",
    "print(\"Family Members: \", family_members);\n",
    "\n"
   ]
  },
  {
   "cell_type": "code",
   "execution_count": 88,
   "id": "c1227d47",
   "metadata": {},
   "outputs": [
    {
     "name": "stdout",
     "output_type": "stream",
     "text": [
      "Length of it_companies :  7\n",
      "\n",
      "Adding Twitter :  {'Google', 'Amazon', 'IBM', 'Oracle', 'Apple', 'Facebook', 'Twitter', 'Microsoft'}\n",
      "\n",
      "Updated set :  {'Google', 'L&T', 'Oracle', 'Facebook', 'Microsoft', 'TCS', 'Amazon', 'Infosys', 'IBM', 'MindTree', 'Apple', 'Twitter'}\n",
      "After remove :  {'Google', 'Oracle', 'Facebook', 'Microsoft', 'TCS', 'Amazon', 'Infosys', 'IBM', 'MindTree', 'Apple', 'Twitter'}\n",
      "\n",
      "\n",
      "discard() method will not throw error when an item is not present where as remove() method will throw the error when item is not present in List\n",
      "\n",
      "Joining A & B - Union {19, 20, 22, 24, 25, 26, 27, 28}\n",
      "Intersection of A & B :  {19, 20, 22, 24, 25, 26}\n",
      "A is Subset of B if true else not a Subset : True\n",
      "A & B are disjoints id no elements is in common- if true disjoint else :  False\n",
      "A union B and B union A :  {19, 20, 22, 24, 25, 26, 27, 28}\n",
      "extra elements that are not present in one set:  {27, 28}\n",
      "After clearing sets A :  set()  B :  set()  it_companies :  set()\n",
      "\n",
      " list of age :  [22, 19, 24, 25, 26, 24, 25, 24]\n",
      "Set of age :  {19, 22, 24, 25, 26}\n",
      "Length of Set is :  5  Length of List is :  8\n"
     ]
    }
   ],
   "source": [
    "#Question 4\n",
    "#Given\n",
    "it_companies = {'Facebook', 'Google', 'Microsoft', 'Apple', 'IBM', 'Oracle', 'Amazon'};\n",
    "A = {19,22,24,20,25,26};\n",
    "B = {19,22,20,25,26,24,28,27};\n",
    "age=[22,19,24,25,26,24,25,24];\n",
    "print(\"Length of it_companies : \", len(it_companies));\n",
    "it_companies.add('Twitter');\n",
    "print(\"\\nAdding Twitter : \", it_companies);\n",
    "it_companies.update(['TCS', 'Infosys', 'L&T', 'MindTree']);\n",
    "print(\"\\nUpdated set : \", it_companies);\n",
    "it_companies.remove('L&T');\n",
    "print(\"After remove : \", it_companies);\n",
    "print(\"\\n\");\n",
    "print(\"discard() method will not throw error when an item is not present where as\", \n",
    "       \"remove() method will throw the error when item is not present in List\");\n",
    "print(\"\\nJoining A & B - Union\", A.union(B));\n",
    "print(\"Intersection of A & B : \", A.intersection(B));\n",
    "print(\"A is Subset of B if true else not a Subset :\", A.issubset(B));\n",
    "print(\"A & B are disjoints id no elements is in common- if true disjoint else : \", A.isdisjoint(B));\n",
    "print(\"A union B and B union A : \", A.union(B).intersection(B.union(A)) );\n",
    "print(\"extra elements that are not present in one set: \", A.symmetric_difference(B));\n",
    "it_companies.clear();\n",
    "A.clear();\n",
    "B.clear();\n",
    "print(\"After clearing sets A : \", A ,\" B : \", B ,\" it_companies : \", it_companies);\n",
    "print(\"\\n list of age : \", age);\n",
    "ageSet = set(age);\n",
    "print(\"Set of age : \", ageSet);\n",
    "print(\"Length of Set is : \", len(ageSet), \" Length of List is : \", len(age));"
   ]
  },
  {
   "cell_type": "code",
   "execution_count": 106,
   "id": "1d1c81fc",
   "metadata": {},
   "outputs": [
    {
     "name": "stdout",
     "output_type": "stream",
     "text": [
      "Area of the circle is :  2827.4333882308138\n",
      "Circumference of circle is :  188.49555921538757 m\n",
      "Enter radius of a circle : 100\n",
      "Area of the circle is :  31415.926535897932\n"
     ]
    }
   ],
   "source": [
    "#Question 5\n",
    "#Given\n",
    "\n",
    "import math\n",
    "#importing math function inorder to use pie value....\n",
    "\n",
    "radiusOfCircle = 30;\n",
    "_area_of_circle_ = math.pi * radiusOfCircle * radiusOfCircle;\n",
    "print(\"Area of the circle is : \", areaOfCircle);\n",
    "\n",
    "_circum_of_circle_ = 2 * math.pi * radiusOfCircle;\n",
    "print(\"Circumference of circle is : \", _circum_of_circle_, \"m\");\n",
    "\n",
    "radiusOfCircle = float(input(\"Enter radius of a circle : \"));\n",
    "_area_of_circle_ = math.pi * radiusOfCircle **2;\n",
    "print(\"Area of the circle is : \", _area_of_circle_);"
   ]
  },
  {
   "cell_type": "code",
   "execution_count": 108,
   "id": "ff7d0886",
   "metadata": {},
   "outputs": [
    {
     "name": "stdout",
     "output_type": "stream",
     "text": [
      "Number of unique words :  10 \n",
      "they are :  {'love', 'and', 'to', 'am', 'teach', 'teacher', 'I', 'a', 'inspire', 'people'}\n"
     ]
    }
   ],
   "source": [
    "#Question 6\n",
    "#to get unique words we need to use set...\n",
    "\n",
    "unique_words = set((\"I am a teacher and I love to inspire and teach people\").split(\" \"));\n",
    "print(\"Number of unique words : \", len(unique_words), \"\\nthey are : \", unique_words);\n"
   ]
  },
  {
   "cell_type": "code",
   "execution_count": 119,
   "id": "ba5c4278",
   "metadata": {},
   "outputs": [
    {
     "name": "stdout",
     "output_type": "stream",
     "text": [
      "Name  \t age \t country   city \n",
      "Asabeneh 250 \t Finland   Helsinki \n"
     ]
    }
   ],
   "source": [
    "#Question 7\n",
    "#Tab escape sequesnce\n",
    "\n",
    "sentence = \"Name  \\t age \\t country   city \\nAsabeneh 250 \\t Finland   Helsinki \";\n",
    "print(sentence);"
   ]
  },
  {
   "cell_type": "code",
   "execution_count": 120,
   "id": "4b3c02e6",
   "metadata": {},
   "outputs": [
    {
     "name": "stdout",
     "output_type": "stream",
     "text": [
      "The area of the circle with the radius  10  is 314 meter square\n"
     ]
    }
   ],
   "source": [
    "#Question 8\n",
    "#given\n",
    "\n",
    "radius = 10;\n",
    "area = 3.14 * radius **2\n",
    "\n",
    "print(\"The area of the circle with the radius \", radius, \" is %.0f\" %area, \"meter square\");"
   ]
  },
  {
   "cell_type": "code",
   "execution_count": 127,
   "id": "76a80397",
   "metadata": {},
   "outputs": [
    {
     "name": "stdout",
     "output_type": "stream",
     "text": [
      "Enter number of students : 2\n",
      "Enter weight of 1 students in lbs : 220\n",
      "Enter weight of 2 students in lbs : 330\n",
      "weight of students in Kgs :  [99.79, 149.69]\n"
     ]
    }
   ],
   "source": [
    "#Question 9\n",
    "#N - Number of students\n",
    "\n",
    "N = int(input(\"Enter number of students : \"));\n",
    "weightsInLBS = list();\n",
    "weightsInKGS = list();\n",
    "for i in range(N):\n",
    "    lbWeights = int(input(\"Enter weight of {} students in lbs : \".format(i+1)));\n",
    "    weightsInLBS.insert(i , lbWeights);\n",
    "    #convert lbs to kgs\n",
    "    kgWeights = float(\"%.2f\" %(lbWeights * 0.453592)); # 1lb = 0.453592 kg\n",
    "    weightsInKGS.insert(i, kgWeights);\n",
    "\n",
    "print(\"weight of students in Kgs : \", weightsInKGS);\n"
   ]
  },
  {
   "cell_type": "code",
   "execution_count": 16,
   "id": "4faa783f",
   "metadata": {},
   "outputs": [
    {
     "ename": "AttributeError",
     "evalue": "partially initialized module 'pandas' has no attribute 'core' (most likely due to a circular import)",
     "output_type": "error",
     "traceback": [
      "\u001b[0;31m---------------------------------------------------------------------------\u001b[0m",
      "\u001b[0;31mAttributeError\u001b[0m                            Traceback (most recent call last)",
      "Input \u001b[0;32mIn [16]\u001b[0m, in \u001b[0;36m<cell line: 3>\u001b[0;34m()\u001b[0m\n\u001b[1;32m      1\u001b[0m \u001b[38;5;66;03m#Question 10\u001b[39;00m\n\u001b[1;32m      2\u001b[0m \u001b[38;5;28;01mimport\u001b[39;00m \u001b[38;5;21;01mnumpy\u001b[39;00m \u001b[38;5;28;01mas\u001b[39;00m \u001b[38;5;21;01mnm\u001b[39;00m\n\u001b[0;32m----> 3\u001b[0m \u001b[38;5;28;01mimport\u001b[39;00m \u001b[38;5;21;01mpandas\u001b[39;00m \u001b[38;5;28;01mas\u001b[39;00m \u001b[38;5;21;01mpd\u001b[39;00m \n\u001b[1;32m      4\u001b[0m \u001b[38;5;28;01mfrom\u001b[39;00m \u001b[38;5;21;01msklearn\u001b[39;00m\u001b[38;5;21;01m.\u001b[39;00m\u001b[38;5;21;01mmodel_selection\u001b[39;00m \u001b[38;5;28;01mimport\u001b[39;00m train_test_split\n\u001b[1;32m      7\u001b[0m A \u001b[38;5;241m=\u001b[39m nm\u001b[38;5;241m.\u001b[39marray([[\u001b[38;5;241m1\u001b[39m,\u001b[38;5;241m0\u001b[39m],[\u001b[38;5;241m2\u001b[39m,\u001b[38;5;241m0\u001b[39m],[\u001b[38;5;241m3\u001b[39m,\u001b[38;5;241m0\u001b[39m],[\u001b[38;5;241m6\u001b[39m,\u001b[38;5;241m0\u001b[39m],[\u001b[38;5;241m6\u001b[39m,\u001b[38;5;241m0\u001b[39m],[\u001b[38;5;241m7\u001b[39m,\u001b[38;5;241m0\u001b[39m],[\u001b[38;5;241m10\u001b[39m,\u001b[38;5;241m0\u001b[39m],[\u001b[38;5;241m11\u001b[39m,\u001b[38;5;241m0\u001b[39m]]);\n",
      "File \u001b[0;32m~/opt/anaconda3/lib/python3.9/site-packages/pandas/__init__.py:135\u001b[0m, in \u001b[0;36m<module>\u001b[0;34m\u001b[0m\n\u001b[1;32m    117\u001b[0m \u001b[38;5;28;01mfrom\u001b[39;00m \u001b[38;5;21;01mpandas\u001b[39;00m\u001b[38;5;21;01m.\u001b[39;00m\u001b[38;5;21;01mcore\u001b[39;00m\u001b[38;5;21;01m.\u001b[39;00m\u001b[38;5;21;01mcomputation\u001b[39;00m\u001b[38;5;21;01m.\u001b[39;00m\u001b[38;5;21;01mapi\u001b[39;00m \u001b[38;5;28;01mimport\u001b[39;00m \u001b[38;5;28meval\u001b[39m\n\u001b[1;32m    119\u001b[0m \u001b[38;5;28;01mfrom\u001b[39;00m \u001b[38;5;21;01mpandas\u001b[39;00m\u001b[38;5;21;01m.\u001b[39;00m\u001b[38;5;21;01mcore\u001b[39;00m\u001b[38;5;21;01m.\u001b[39;00m\u001b[38;5;21;01mreshape\u001b[39;00m\u001b[38;5;21;01m.\u001b[39;00m\u001b[38;5;21;01mapi\u001b[39;00m \u001b[38;5;28;01mimport\u001b[39;00m (\n\u001b[1;32m    120\u001b[0m     concat,\n\u001b[1;32m    121\u001b[0m     lreshape,\n\u001b[0;32m   (...)\u001b[0m\n\u001b[1;32m    132\u001b[0m     qcut,\n\u001b[1;32m    133\u001b[0m )\n\u001b[0;32m--> 135\u001b[0m \u001b[38;5;28;01mfrom\u001b[39;00m \u001b[38;5;21;01mpandas\u001b[39;00m \u001b[38;5;28;01mimport\u001b[39;00m api, arrays, errors, io, plotting, testing, tseries\n\u001b[1;32m    136\u001b[0m \u001b[38;5;28;01mfrom\u001b[39;00m \u001b[38;5;21;01mpandas\u001b[39;00m\u001b[38;5;21;01m.\u001b[39;00m\u001b[38;5;21;01mutil\u001b[39;00m\u001b[38;5;21;01m.\u001b[39;00m\u001b[38;5;21;01m_print_versions\u001b[39;00m \u001b[38;5;28;01mimport\u001b[39;00m show_versions\n\u001b[1;32m    138\u001b[0m \u001b[38;5;28;01mfrom\u001b[39;00m \u001b[38;5;21;01mpandas\u001b[39;00m\u001b[38;5;21;01m.\u001b[39;00m\u001b[38;5;21;01mio\u001b[39;00m\u001b[38;5;21;01m.\u001b[39;00m\u001b[38;5;21;01mapi\u001b[39;00m \u001b[38;5;28;01mimport\u001b[39;00m (\n\u001b[1;32m    139\u001b[0m     \u001b[38;5;66;03m# excel\u001b[39;00m\n\u001b[1;32m    140\u001b[0m     ExcelFile,\n\u001b[0;32m   (...)\u001b[0m\n\u001b[1;32m    168\u001b[0m     read_spss,\n\u001b[1;32m    169\u001b[0m )\n",
      "File \u001b[0;32m~/opt/anaconda3/lib/python3.9/site-packages/pandas/testing.py:6\u001b[0m, in \u001b[0;36m<module>\u001b[0;34m\u001b[0m\n\u001b[1;32m      1\u001b[0m \u001b[38;5;124;03m\"\"\"\u001b[39;00m\n\u001b[1;32m      2\u001b[0m \u001b[38;5;124;03mPublic testing utility functions.\u001b[39;00m\n\u001b[1;32m      3\u001b[0m \u001b[38;5;124;03m\"\"\"\u001b[39;00m\n\u001b[0;32m----> 6\u001b[0m \u001b[38;5;28;01mfrom\u001b[39;00m \u001b[38;5;21;01mpandas\u001b[39;00m\u001b[38;5;21;01m.\u001b[39;00m\u001b[38;5;21;01m_testing\u001b[39;00m \u001b[38;5;28;01mimport\u001b[39;00m (\n\u001b[1;32m      7\u001b[0m     assert_extension_array_equal,\n\u001b[1;32m      8\u001b[0m     assert_frame_equal,\n\u001b[1;32m      9\u001b[0m     assert_index_equal,\n\u001b[1;32m     10\u001b[0m     assert_series_equal,\n\u001b[1;32m     11\u001b[0m )\n\u001b[1;32m     13\u001b[0m __all__ \u001b[38;5;241m=\u001b[39m [\n\u001b[1;32m     14\u001b[0m     \u001b[38;5;124m\"\u001b[39m\u001b[38;5;124massert_extension_array_equal\u001b[39m\u001b[38;5;124m\"\u001b[39m,\n\u001b[1;32m     15\u001b[0m     \u001b[38;5;124m\"\u001b[39m\u001b[38;5;124massert_frame_equal\u001b[39m\u001b[38;5;124m\"\u001b[39m,\n\u001b[1;32m     16\u001b[0m     \u001b[38;5;124m\"\u001b[39m\u001b[38;5;124massert_series_equal\u001b[39m\u001b[38;5;124m\"\u001b[39m,\n\u001b[1;32m     17\u001b[0m     \u001b[38;5;124m\"\u001b[39m\u001b[38;5;124massert_index_equal\u001b[39m\u001b[38;5;124m\"\u001b[39m,\n\u001b[1;32m     18\u001b[0m ]\n",
      "File \u001b[0;32m~/opt/anaconda3/lib/python3.9/site-packages/pandas/_testing/__init__.py:979\u001b[0m, in \u001b[0;36m<module>\u001b[0;34m\u001b[0m\n\u001b[1;32m    974\u001b[0m     \u001b[38;5;28;01mimport\u001b[39;00m \u001b[38;5;21;01mpytest\u001b[39;00m\n\u001b[1;32m    976\u001b[0m     \u001b[38;5;28;01mreturn\u001b[39;00m pytest\u001b[38;5;241m.\u001b[39mraises(expected_exception, match\u001b[38;5;241m=\u001b[39m\u001b[38;5;28;01mNone\u001b[39;00m)  \u001b[38;5;66;03m# noqa: PDF010\u001b[39;00m\n\u001b[0;32m--> 979\u001b[0m cython_table \u001b[38;5;241m=\u001b[39m \u001b[43mpd\u001b[49m\u001b[38;5;241;43m.\u001b[39;49m\u001b[43mcore\u001b[49m\u001b[38;5;241m.\u001b[39mcommon\u001b[38;5;241m.\u001b[39m_cython_table\u001b[38;5;241m.\u001b[39mitems()\n\u001b[1;32m    982\u001b[0m \u001b[38;5;28;01mdef\u001b[39;00m \u001b[38;5;21mget_cython_table_params\u001b[39m(ndframe, func_names_and_expected):\n\u001b[1;32m    983\u001b[0m     \u001b[38;5;124;03m\"\"\"\u001b[39;00m\n\u001b[1;32m    984\u001b[0m \u001b[38;5;124;03m    Combine frame, functions from com._cython_table\u001b[39;00m\n\u001b[1;32m    985\u001b[0m \u001b[38;5;124;03m    keys and expected result.\u001b[39;00m\n\u001b[0;32m   (...)\u001b[0m\n\u001b[1;32m    997\u001b[0m \u001b[38;5;124;03m        List of three items (DataFrame, function, expected result)\u001b[39;00m\n\u001b[1;32m    998\u001b[0m \u001b[38;5;124;03m    \"\"\"\u001b[39;00m\n",
      "\u001b[0;31mAttributeError\u001b[0m: partially initialized module 'pandas' has no attribute 'core' (most likely due to a circular import)"
     ]
    }
   ],
   "source": [
    "#Question 10\n",
    "import numpy as nm\n",
    "import pandas as pd \n",
    "from sklearn.model_selection import train_test_split\n",
    " \n",
    "\n",
    "X = nm.array([[1,0],[2,0],[3,0],[6,0],[6,0],[7,0],[10,0],[11,0]]);\n",
    "print(\"Given 8 points of dataset : \\n\",  A,);\n",
    "\n",
    "Y = nm.array([0,0,1,1,1,0,0,0]);\n",
    "x_train,x_test,y_train,y_test = train_test_split(x,y,);"
   ]
  },
  {
   "cell_type": "code",
   "execution_count": null,
   "id": "4210fe75",
   "metadata": {},
   "outputs": [],
   "source": []
  }
 ],
 "metadata": {
  "kernelspec": {
   "display_name": "Python 3 (ipykernel)",
   "language": "python",
   "name": "python3"
  },
  "language_info": {
   "codemirror_mode": {
    "name": "ipython",
    "version": 3
   },
   "file_extension": ".py",
   "mimetype": "text/x-python",
   "name": "python",
   "nbconvert_exporter": "python",
   "pygments_lexer": "ipython3",
   "version": "3.9.12"
  }
 },
 "nbformat": 4,
 "nbformat_minor": 5
}
